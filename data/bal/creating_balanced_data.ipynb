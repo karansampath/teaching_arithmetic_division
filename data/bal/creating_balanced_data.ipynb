{
 "cells": [
  {
   "attachments": {},
   "cell_type": "markdown",
   "metadata": {},
   "source": [
    "# create balanced data with various number of samples (N)\n",
    "this is done by sampling\n",
    "- all 1 digit additions\n",
    "- 900 * N /10000 2 digit additions\n",
    "- N - (100 + 900 * N / 100000) 3 digit additions"
   ]
  },
  {
   "cell_type": "code",
   "execution_count": 1,
   "metadata": {},
   "outputs": [],
   "source": [
    "import math\n",
    "import random\n",
    "import os"
   ]
  },
  {
   "cell_type": "code",
   "execution_count": 2,
   "metadata": {},
   "outputs": [],
   "source": [
    "def numCarryOps(a, b):\n",
    "    a,b=int(a),int(b)\n",
    "    def digitSum(n):\n",
    "        return sum(map(int,str(n)))\n",
    "    # assert(a >= 0); assert(b >= 0);\n",
    "    return int((digitSum(a) + digitSum(b) - digitSum(a+b)) / 9)"
   ]
  },
  {
   "cell_type": "code",
   "execution_count": 3,
   "metadata": {},
   "outputs": [],
   "source": [
    "def create_balanced_data(filename, total_num_examples=10000, num_digits = 3):\n",
    "    num_digit_2 = int(900*total_num_examples/10000)\n",
    "    num_digit_list = [100, num_digit_2, total_num_examples - 100 - num_digit_2]\n",
    "    print(num_digit_list)\n",
    "\n",
    "    # create a list of number of carries - we target each number of carries to have the same number of examples\n",
    "    target_num_carry_examples = math.ceil(total_num_examples / (num_digits+1))\n",
    "    num_carry_list = [0 for i in range(num_digits+1)]\n",
    "\n",
    "    with open(filename, 'w') as f:\n",
    "        num_example = 0\n",
    "\n",
    "        # generate all 1 digit examples\n",
    "        for a in range(10):\n",
    "            for b in range(10):\n",
    "                c = a + b\n",
    "                f.write(f'{a}+{b}={c}\\n')\n",
    "                num_example += 1\n",
    "                num_carry = numCarryOps(a, b)\n",
    "                num_carry_list[num_carry] += 1\n",
    "\n",
    "        for num_digit in range(2, num_digits+1):\n",
    "            num_digit_example = 0\n",
    "            print(num_digit,  num_example, num_carry_list)\n",
    "            while num_digit_example < num_digit_list[num_digit-1] and num_example < total_num_examples:\n",
    "                # generate a random number between 0 and 10^(i+1) - 1\n",
    "                a = random.randint(0, 10**(num_digit) - 1)\n",
    "                b = random.randint(0, 10**(num_digit) - 1)\n",
    "                c = a + b\n",
    "\n",
    "                # count number of carries in c\n",
    "                num_carry = numCarryOps(a, b)\n",
    "                if num_carry_list[num_carry] < target_num_carry_examples:\n",
    "                    # write the example to file\n",
    "                    f.write(f'{a}+{b}={c}\\n')\n",
    "                    # increment num_carry_list[num_carry]\n",
    "                    num_carry_list[num_carry] += 1\n",
    "                    num_digit_example += 1\n",
    "                    num_example += 1\n",
    "                else:\n",
    "                    continue\n",
    "        \n",
    "    print(num_carry_list)"
   ]
  },
  {
   "cell_type": "code",
   "execution_count": 43,
   "metadata": {},
   "outputs": [
    {
     "name": "stdout",
     "output_type": "stream",
     "text": [
      "File train_3digit_10000.txt already exists\n"
     ]
    }
   ],
   "source": [
    "total_num_examples = 10000\n",
    "num_digits = 3\n",
    "input_file_path = f'train_{num_digits}digit_{total_num_examples}.txt'\n",
    "if not os.path.exists(input_file_path):\n",
    "    create_balanced_data(input_file_path, total_num_examples=total_num_examples, num_digits=3)\n",
    "else:\n",
    "    print(f'File {input_file_path} already exists')"
   ]
  },
  {
   "cell_type": "code",
   "execution_count": 21,
   "metadata": {},
   "outputs": [
    {
     "name": "stdout",
     "output_type": "stream",
     "text": [
      "[100, 1800, 18100]\n",
      "2 100 [55, 45, 0, 0]\n",
      "3 1900 [545, 893, 462, 0]\n",
      "[5000, 5000, 5000, 5000]\n"
     ]
    }
   ],
   "source": [
    "total_num_examples = 20000\n",
    "num_digits = 3\n",
    "input_file_path = f'train_{num_digits}digit_{total_num_examples}.txt'\n",
    "if not os.path.exists(input_file_path):\n",
    "    create_balanced_data(input_file_path, total_num_examples=total_num_examples, num_digits=3)\n",
    "else:\n",
    "    print(f'File {input_file_path} already exists')"
   ]
  },
  {
   "cell_type": "code",
   "execution_count": 22,
   "metadata": {},
   "outputs": [
    {
     "name": "stdout",
     "output_type": "stream",
     "text": [
      "[100, 3600, 36300]\n",
      "2 100 [55, 45, 0, 0]\n",
      "3 3700 [1120, 1668, 912, 0]\n",
      "[10000, 10000, 10000, 10000]\n"
     ]
    }
   ],
   "source": [
    "total_num_examples = 40000\n",
    "num_digits = 3\n",
    "input_file_path = f'train_{num_digits}digit_{total_num_examples}.txt'\n",
    "if not os.path.exists(input_file_path):\n",
    "    create_balanced_data(input_file_path, total_num_examples=total_num_examples, num_digits=3)\n",
    "else:\n",
    "    print(f'File {input_file_path} already exists')"
   ]
  },
  {
   "cell_type": "code",
   "execution_count": 5,
   "metadata": {},
   "outputs": [],
   "source": [
    "# create dataset with smaller number of examples, sampled from the above dataset\n",
    "\n",
    "def create_subset_dataset(input_file_path='train_3digit_10000.txt', num_samples=10000):\n",
    "    with open(input_file_path, 'r') as f:\n",
    "        lines = f.readlines()\n",
    "\n",
    "    selected_lines = lines[:100] # select the first 100 lines (1-digit examples)\n",
    "    # sample int(900*total_num_examples/10000) 2-digit examples (lines[100:1000])\n",
    "    selected_lines += random.sample(lines[100:1000], int(900*num_samples/10000))\n",
    "    selected_lines += random.sample(lines[1000:], num_samples - 100 - int(900*num_samples/10000))\n",
    "\n",
    "    num_carry_list = [0 for i in range(4)]\n",
    "    for line in selected_lines:\n",
    "        a, b = line.split('+')\n",
    "        b = b.split('=')[0]\n",
    "        num_carry = numCarryOps(a, b)\n",
    "        num_carry_list[num_carry] += 1\n",
    "    print(num_carry_list)\n",
    "\n",
    "    output_file_path = f'train_3digit_{num_samples}.txt'\n",
    "    if os.path.exists(output_file_path):\n",
    "        print(f'File {output_file_path} already exists')\n",
    "        \n",
    "        return\n",
    "    \n",
    "    with open(output_file_path, 'w') as f:\n",
    "        f.writelines(selected_lines)\n",
    "        print(f'created {num_samples} number of examples and saved to {output_file_path}')\n",
    "        \n",
    "    "
   ]
  },
  {
   "cell_type": "code",
   "execution_count": 18,
   "metadata": {},
   "outputs": [
    {
     "name": "stdout",
     "output_type": "stream",
     "text": [
      "[163, 141, 97, 99]\n",
      "created 500 number of examples and saved to train_3digit_500.txt\n",
      "[283, 268, 236, 213]\n",
      "created 1000 number of examples and saved to train_3digit_1000.txt\n",
      "[535, 502, 481, 482]\n",
      "created 2000 number of examples and saved to train_3digit_2000.txt\n",
      "[781, 782, 748, 689]\n",
      "created 3000 number of examples and saved to train_3digit_3000.txt\n",
      "[1020, 1016, 958, 1006]\n",
      "created 4000 number of examples and saved to train_3digit_4000.txt\n",
      "[1279, 1271, 1229, 1221]\n",
      "created 5000 number of examples and saved to train_3digit_5000.txt\n"
     ]
    }
   ],
   "source": [
    "num_samples = [500, 1000, 2000, 3000, 4000, 5000]\n",
    "for num_sample in num_samples:\n",
    "    create_subset_dataset(num_samples=num_sample)"
   ]
  },
  {
   "cell_type": "code",
   "execution_count": 6,
   "metadata": {},
   "outputs": [
    {
     "name": "stdout",
     "output_type": "stream",
     "text": [
      "[92, 82, 39, 37]\n",
      "created 250 number of examples and saved to train_3digit_250.txt\n"
     ]
    }
   ],
   "source": [
    "create_subset_dataset(num_samples=250)"
   ]
  },
  {
   "cell_type": "code",
   "execution_count": null,
   "metadata": {},
   "outputs": [],
   "source": []
  },
  {
   "cell_type": "code",
   "execution_count": 3,
   "metadata": {},
   "outputs": [],
   "source": [
    "# create 1 digit addition dataset\n",
    "filename = 'train_1digit_100.txt'\n",
    "if not os.path.exists(filename):\n",
    "    with open(filename, 'w') as f:\n",
    "        for _ in range(20):\n",
    "            for a in range(10):\n",
    "                for b in range(10):\n",
    "                    c = a + b\n",
    "                    f.write(f'{a}+{b}={c}\\n')\n",
    "\n",
    "# Create 2 digit addition dataset\n",
    "filename = 'train_2digit_10000.txt'\n",
    "if not os.path.exists(filename):\n",
    "    with open(filename, 'w') as f:\n",
    "        for a in range(100):\n",
    "            for b in range(100):\n",
    "                c = a + b\n",
    "                f.write(f'{a}+{b}={c}\\n')\n",
    "\n",
    "\n",
    "filename = 'train_2digit_10000_v2.txt'\n",
    "if not os.path.exists(filename):\n",
    "    with open(filename, 'w') as f:\n",
    "        for _ in range(99):\n",
    "            for a in range(10):\n",
    "                for b in range(10):\n",
    "                    c = a + b\n",
    "                    f.write(f'{a}+{b}={c}\\n')\n",
    "        for a in range(100):\n",
    "            for b in range(100):\n",
    "                c = a + b\n",
    "                f.write(f'{a}+{b}={c}\\n')"
   ]
  },
  {
   "cell_type": "code",
   "execution_count": 5,
   "metadata": {},
   "outputs": [],
   "source": [
    "def create_2digit_samples(num_sample=2000):\n",
    "    filename = f'train_2digit_{num_sample}.txt'\n",
    "    if not os.path.exists(filename):\n",
    "        with open(filename, 'w') as f:\n",
    "            for a in range(10):\n",
    "                for b in range(10):\n",
    "                    c = a + b\n",
    "                    f.write(f'{a}+{b}={c}\\n')\n",
    "\n",
    "            for _ in range(num_sample - 100):\n",
    "                a = random.randint(0, 99)\n",
    "                b = random.randint(0, 99)\n",
    "                c = a + b\n",
    "                f.write(f'{a}+{b}={c}\\n')\n",
    "\n",
    "\n",
    "create_2digit_samples(num_sample=2000)\n",
    "create_2digit_samples(num_sample=5000)\n"
   ]
  },
  {
   "cell_type": "code",
   "execution_count": null,
   "metadata": {},
   "outputs": [],
   "source": []
  },
  {
   "cell_type": "code",
   "execution_count": null,
   "metadata": {},
   "outputs": [],
   "source": []
  },
  {
   "attachments": {},
   "cell_type": "markdown",
   "metadata": {},
   "source": [
    "# Create Non-overlapping test dataset\n"
   ]
  },
  {
   "cell_type": "code",
   "execution_count": 103,
   "metadata": {},
   "outputs": [
    {
     "name": "stdout",
     "output_type": "stream",
     "text": [
      "9891\n"
     ]
    }
   ],
   "source": [
    "total_num_examples = 10000\n",
    "num_digits = 3\n",
    "input_file_path = f'train_{num_digits}digit_{total_num_examples}.txt'\n",
    "output_file_path = f'train_{num_digits}digit_{total_num_examples}_nonoverlap.txt'\n",
    "\n",
    "lines_to_remove = set()\n",
    "with open(input_file_path, 'r') as f:\n",
    "    for line in f.readlines():\n",
    "        lines_to_remove.add(line)\n",
    "\n",
    "print(len(lines_to_remove))\n",
    "\n",
    "with open(output_file_path, 'w') as f:\n",
    "    for x in range(1000):\n",
    "        for y in range(1000):\n",
    "            line_to_add = f'{x}+{y}={x+y}\\n'\n",
    "            if line_to_add in lines_to_remove:\n",
    "                lines_to_remove.remove(line_to_add)\n",
    "            else:\n",
    "                f.write(line_to_add)"
   ]
  },
  {
   "cell_type": "code",
   "execution_count": 51,
   "metadata": {},
   "outputs": [],
   "source": [
    "num_test_samples = 10000\n",
    "input_file_path = f'train_{num_digits}digit_{total_num_examples}_nonoverlap.txt'\n",
    "\n",
    "with open(input_file_path, 'r') as f:\n",
    "    lines = f.readlines()\n",
    "    random.shuffle(lines)\n",
    "    with open(f'test_{num_digits}digit_{num_test_samples}.txt', 'w') as f2:\n",
    "        for line in lines[:num_test_samples]:\n",
    "            f2.write(line)"
   ]
  },
  {
   "cell_type": "code",
   "execution_count": 104,
   "metadata": {},
   "outputs": [],
   "source": [
    "num_test_samples = 1000\n",
    "input_file_path = f'train_{num_digits}digit_{total_num_examples}_nonoverlap.txt'\n",
    "\n",
    "with open(input_file_path, 'r') as f:\n",
    "    lines = f.readlines()\n",
    "    random.shuffle(lines)\n",
    "    with open(f'test_{num_digits}digit_{num_test_samples}.txt', 'w') as f2:\n",
    "        for line in lines[:num_test_samples]:\n",
    "            f2.write(line)"
   ]
  },
  {
   "attachments": {},
   "cell_type": "markdown",
   "metadata": {},
   "source": [
    "# Make 1-digit and 2-digit test data"
   ]
  },
  {
   "cell_type": "code",
   "execution_count": 49,
   "metadata": {},
   "outputs": [],
   "source": [
    "filename = 'test_1digit_100.txt'\n",
    "\n",
    "if not os.path.exists(filename):\n",
    "    with open(filename, 'w') as f:\n",
    "        for x in range(10):\n",
    "            for y in range(10):\n",
    "                f.write(f'{x}+{y}={x+y}\\n')\n",
    "else:\n",
    "    print(f'File {filename} already exists')"
   ]
  },
  {
   "cell_type": "code",
   "execution_count": 50,
   "metadata": {},
   "outputs": [],
   "source": [
    "filename = 'test_2digit_10000.txt'\n",
    "\n",
    "if not os.path.exists(filename):\n",
    "    with open(filename, 'w') as f:\n",
    "        for x in range(100):\n",
    "            for y in range(100):\n",
    "                f.write(f'{x}+{y}={x+y}\\n')\n",
    "else:\n",
    "    print(f'File {filename} already exists')"
   ]
  },
  {
   "cell_type": "code",
   "execution_count": null,
   "metadata": {},
   "outputs": [],
   "source": []
  },
  {
   "cell_type": "code",
   "execution_count": 3,
   "metadata": {},
   "outputs": [],
   "source": [
    "def create_subset_multiplication_dataset(input_file_path='train_multiplication_3000.txt', num_samples=10000):\n",
    "    with open(input_file_path, 'r') as f:\n",
    "        lines = f.readlines()\n",
    "\n",
    "    selected_lines = lines[:100] # select the first 100 lines (1-digit examples)\n",
    "    # sample int(900*total_num_examples/10000) 2-digit examples (lines[100:1000])\n",
    "    selected_lines += random.sample(lines[100:], num_samples-100)\n",
    "\n",
    "\n",
    "    output_file_path = f'train_multiplication_{num_samples}.txt'\n",
    "    if os.path.exists(output_file_path):\n",
    "        print(f'File {output_file_path} already exists')\n",
    "        \n",
    "        return\n",
    "    \n",
    "    with open(output_file_path, 'w') as f:\n",
    "        f.writelines(selected_lines)\n",
    "        print(f'created {num_samples} number of examples and saved to {output_file_path}')\n",
    "        \n",
    "    "
   ]
  },
  {
   "cell_type": "code",
   "execution_count": 4,
   "metadata": {},
   "outputs": [
    {
     "name": "stdout",
     "output_type": "stream",
     "text": [
      "created 1000 number of examples and saved to train_multiplication_1000.txt\n",
      "created 2000 number of examples and saved to train_multiplication_2000.txt\n"
     ]
    }
   ],
   "source": [
    "num_samples = [1000, 2000]\n",
    "for num_sample in num_samples:\n",
    "    create_subset_multiplication_dataset(num_samples=num_sample)"
   ]
  },
  {
   "cell_type": "code",
   "execution_count": 7,
   "metadata": {},
   "outputs": [],
   "source": [
    "def make_multiplication_data(num_samples=5000):\n",
    "    with open('train_multiplication_3000.txt', 'r') as f:\n",
    "        lines = f.readlines()\n",
    "    out_file_name = f'train_multiplication_{num_samples}.txt'\n",
    "    if os.path.exists(out_file_name):\n",
    "        print(f'{out_file_name} already exists')\n",
    "        return\n",
    "    \n",
    "    print('making multiplication data file: ', out_file_name)\n",
    "    \n",
    "    count = 0\n",
    "    while count < num_samples - 3000:\n",
    "        a, b = random.randint(0, 99), random.randint(0, 99)\n",
    "        if a < 10 and b < 10:\n",
    "            continue\n",
    "        c = a * b\n",
    "        lines.append(f'{a}*{b}={c}\\n')\n",
    "        count += 1\n",
    "    with open(out_file_name, 'w') as f:\n",
    "        f.writelines(lines)"
   ]
  },
  {
   "cell_type": "code",
   "execution_count": 8,
   "metadata": {},
   "outputs": [
    {
     "name": "stdout",
     "output_type": "stream",
     "text": [
      "train_multiplication_5000.txt already exists\n",
      "making multiplication data file:  train_multiplication_7000.txt\n"
     ]
    }
   ],
   "source": [
    "for num_sample in [5000, 7000]:\n",
    "    make_multiplication_data(num_samples=num_sample)"
   ]
  },
  {
   "cell_type": "markdown",
   "metadata": {},
   "source": [
    "## Division"
   ]
  },
  {
   "cell_type": "code",
   "execution_count": 4,
   "metadata": {},
   "outputs": [],
   "source": [
    "def make_division_data(num_samples=5000):\n",
    "    with open('train_division_3000.txt', 'r') as f:\n",
    "        lines = f.readlines()\n",
    "    out_file_name = f'train_division_{num_samples}.txt'\n",
    "    if os.path.exists(out_file_name):\n",
    "        print(f'{out_file_name} already exists')\n",
    "        return\n",
    "    \n",
    "    print('making division data file: ', out_file_name)\n",
    "    \n",
    "    count = 0\n",
    "    while count < num_samples - 3000:\n",
    "        a, b = random.randint(100, 200), random.randint(1, 101)\n",
    "        c = a / b\n",
    "        lines.append(f'{a}/{b}={c}\\n')\n",
    "        count += 1\n",
    "    with open(out_file_name, 'w') as f:\n",
    "        f.writelines(lines)"
   ]
  },
  {
   "cell_type": "code",
   "execution_count": 5,
   "metadata": {},
   "outputs": [
    {
     "name": "stdout",
     "output_type": "stream",
     "text": [
      "making division data file:  train_division_5000.txt\n",
      "making division data file:  train_division_7000.txt\n"
     ]
    }
   ],
   "source": [
    "for num_sample in [5000, 7000]:\n",
    "    make_division_data(num_samples=num_sample)"
   ]
  },
  {
   "cell_type": "code",
   "execution_count": 6,
   "metadata": {},
   "outputs": [
    {
     "name": "stdout",
     "output_type": "stream",
     "text": [
      "making non-overlapping test file:  test_division2.txt\n"
     ]
    }
   ],
   "source": [
    "out_file_name = f'train_division_7000.txt'\n",
    "\n",
    "# read our train file and create a set of all the prompts\n",
    "# we want to make sure we don't have any overlap between train and test\n",
    "lines_to_remove = set()\n",
    "with open(f'{out_file_name}', 'r') as f:\n",
    "    for line in f.readlines():\n",
    "        lines_to_remove.add(line.strip())\n",
    "\n",
    "# now let's create our test file    \n",
    "out_file_name = 'test_division2.txt'\n",
    "\n",
    "print('making non-overlapping test file: ', out_file_name)\n",
    "with open(f'{out_file_name}', 'w') as f:\n",
    "    for a in range(100, 200):\n",
    "        for b in range(1, 100):\n",
    "            line_sample = f'{a}/{b}='\n",
    "            for line_to_remove in lines_to_remove:\n",
    "                if line_to_remove.startswith(line_sample):\n",
    "                    lines_to_remove.remove(line_to_remove)\n",
    "                    break\n",
    "            else:\n",
    "                f.write(line_sample + '\\n')"
   ]
  },
  {
   "cell_type": "code",
   "execution_count": 10,
   "metadata": {},
   "outputs": [
    {
     "name": "stdout",
     "output_type": "stream",
     "text": [
      "making non-overlapping test file:  test_multiplication2.txt\n"
     ]
    }
   ],
   "source": [
    "out_file_name = f'train_multiplication_7000.txt'\n",
    "\n",
    "# read our train file and create a set of all the prompts\n",
    "# we want to make sure we don't have any overlap between train and test\n",
    "lines_to_remove = set()\n",
    "with open(f'{out_file_name}', 'r') as f:\n",
    "    for line in f.readlines():\n",
    "        lines_to_remove.add(line.strip())\n",
    "\n",
    "# now let's create our test file    \n",
    "out_file_name = 'test_multiplication2.txt'\n",
    "\n",
    "print('making non-overlapping test file: ', out_file_name)\n",
    "with open(f'{out_file_name}', 'w') as f:\n",
    "    for a in range(100):\n",
    "        for b in range(100):\n",
    "            line_sample = f'{a}*{b}='\n",
    "            for line_to_remove in lines_to_remove:\n",
    "                if line_to_remove.startswith(line_sample):\n",
    "                    lines_to_remove.remove(line_to_remove)\n",
    "                    break\n",
    "            else:\n",
    "                f.write(line_sample + '\\n')"
   ]
  },
  {
   "cell_type": "code",
   "execution_count": 11,
   "metadata": {},
   "outputs": [],
   "source": [
    "out_file_name = 'test_multiplication2.txt'\n",
    "with open(out_file_name, 'r') as f:\n",
    "    lines = f.readlines()\n",
    "    random.shuffle(lines)\n",
    "    with open(f'test_multiplication2_1000.txt', 'w') as f2:\n",
    "        for line in lines[:1000]:\n",
    "            f2.write(line)"
   ]
  },
  {
   "cell_type": "code",
   "execution_count": 12,
   "metadata": {},
   "outputs": [],
   "source": [
    "out_file_name = 'test_multiplication2.txt'\n",
    "with open(out_file_name, 'r') as f:\n",
    "    lines = f.readlines()\n",
    "    random.shuffle(lines)\n",
    "    with open(f'test_multiplication2_100.txt', 'w') as f2:\n",
    "        for line in lines[:100]:\n",
    "            f2.write(line)"
   ]
  },
  {
   "attachments": {},
   "cell_type": "markdown",
   "metadata": {},
   "source": [
    "# Algorithmic Reasoning for Multiplication"
   ]
  },
  {
   "cell_type": "code",
   "execution_count": 3,
   "metadata": {},
   "outputs": [
    {
     "name": "stdout",
     "output_type": "stream",
     "text": [
      "[1, 2, 8]\n",
      "[1,2,8]\n"
     ]
    }
   ],
   "source": [
    "x = 128\n",
    "def list_to_string(a):\n",
    "    a = str(a)\n",
    "    return a.replace(' ', '')\n",
    "\n",
    "def num_to_list(num):\n",
    "    return [int(x) for x in str(num)]\n",
    "\n",
    "list_x = num_to_list(x)\n",
    "print(list_x)\n",
    "print(list_to_string(list_x))\n",
    "\n"
   ]
  },
  {
   "cell_type": "code",
   "execution_count": 37,
   "metadata": {},
   "outputs": [],
   "source": [
    "def get_input_string(x,y):\n",
    "    x, y = str(x), str(y)\n",
    "    input_str = f'Input:\\n{x}*{y}\\n'\n",
    "\n",
    "    return input_str\n",
    "\n",
    "def get_output_string(x,y):\n",
    "    x, y = str(x), str(y)\n",
    "\n",
    "    len_x, len_y = len(x), len(y)\n",
    "    list_x, list_y = num_to_list(x), num_to_list(y)\n",
    "\n",
    "    output_str = f'Target:\\n<scratch>\\n'\n",
    "\n",
    "    output_str += f'{list_to_string(list_x)} has {len_x} digits.\\n'\n",
    "    output_str += f'{list_to_string(list_y)} has {len_y} digits.\\n'\n",
    "\n",
    "    C = 0\n",
    "    # for i in range(max(len_x, len_y)):\n",
    "    for i in range(len_y):\n",
    "        # a = list_x[-1] if i < len_x else 0\n",
    "        b = list_y[-1] if i < len_y else 0\n",
    "        # c = a + b + C\n",
    "        A = b * int(x)\n",
    "        B = A * (10**i)\n",
    "        C_prev = C\n",
    "        C += B\n",
    "        # A, B = num_to_list(A), num_to_list(B)\n",
    "\n",
    "        output_str += f'{list_to_string(list_x)} * {b} , A={list_to_string([int(digit) for digit in str(A)])} , k={10**i} , B={list_to_string([int(digit) for digit in str(B)])} , C={C_prev}+{B}={C}'\n",
    "\n",
    "        if not i == len_y - 1:\n",
    "            output_str += '\\n'\n",
    "        list_y = list_y[:-1]\n",
    "    \n",
    "    output_str += ' , END\\n</scratch>\\n'\n",
    "    # output_str += f'{list_to_string(list_x)} * {list_to_string(list_y)} , A={list_to_string(A)} C={C} , END\\n</scratch>\\n'\n",
    "    \n",
    "    for a in str(C):\n",
    "        output_str += f'{a} '\n",
    "\n",
    "    return output_str[:-1]+'\\n'"
   ]
  },
  {
   "cell_type": "code",
   "execution_count": 38,
   "metadata": {},
   "outputs": [
    {
     "name": "stdout",
     "output_type": "stream",
     "text": [
      "Input:\n",
      "128*367\n",
      "Target:\n",
      "<scratch>\n",
      "[1,2,8] has 3 digits.\n",
      "[3,6,7] has 3 digits.\n",
      "[1,2,8] * 7 , A=[8,9,6] , k=1 , B=[8,9,6] , C=0+896=896\n",
      "[1,2,8] * 6 , A=[7,6,8] , k=10 , B=[7,6,8,0] , C=896+7680=8576\n",
      "[1,2,8] * 3 , A=[3,8,4] , k=100 , B=[3,8,4,0,0] , C=8576+38400=46976 , END\n",
      "</scratch>\n",
      "4 6 9 7 6\n",
      "\n"
     ]
    }
   ],
   "source": [
    "x,y = 128, 367\n",
    "input_str = get_input_string(x,y)\n",
    "output_str = get_output_string(x,y)\n",
    "\n",
    "print(input_str+output_str)\n"
   ]
  },
  {
   "cell_type": "code",
   "execution_count": 5,
   "metadata": {},
   "outputs": [],
   "source": [
    "num_test_samples = 1000\n",
    "input_file_path = 'test_multiplication_7000.txt'\n",
    "\n",
    "with open(input_file_path, 'r') as f:\n",
    "    lines = f.readlines()\n",
    "    random.shuffle(lines)\n",
    "    with open(f'test_multiplication_{num_test_samples}.txt', 'w') as f2:\n",
    "        for line in lines[:num_test_samples]:\n",
    "            f2.write(line)"
   ]
  },
  {
   "cell_type": "code",
   "execution_count": null,
   "metadata": {},
   "outputs": [],
   "source": []
  },
  {
   "attachments": {},
   "cell_type": "markdown",
   "metadata": {},
   "source": [
    "# Algorithmic Reasoning for Subtraction"
   ]
  },
  {
   "cell_type": "code",
   "execution_count": 5,
   "metadata": {},
   "outputs": [
    {
     "name": "stdout",
     "output_type": "stream",
     "text": [
      "[1, 2, 8]\n",
      "[1,2,8]\n"
     ]
    }
   ],
   "source": [
    "x = 128\n",
    "def list_to_string(a):\n",
    "    a = str(a)\n",
    "    return a.replace(' ', '')\n",
    "\n",
    "def num_to_list(num):\n",
    "    return [int(x) for x in str(num)]\n",
    "\n",
    "list_x = num_to_list(x)\n",
    "print(list_x)\n",
    "print(list_to_string(list_x))\n",
    "\n"
   ]
  },
  {
   "cell_type": "code",
   "execution_count": 96,
   "metadata": {},
   "outputs": [],
   "source": [
    "def get_input_string(x,y):\n",
    "    x, y = str(x), str(y)\n",
    "    input_str = f'Input:\\n{x}-{y}\\n'\n",
    "\n",
    "    return input_str\n",
    "\n",
    "def get_output_string(x,y):\n",
    "    operator = '-'\n",
    "    output_str = f'Target:\\n<scratch>\\n'\n",
    "\n",
    "    x, y = str(x), str(y)\n",
    "    len_x, len_y = len(x), len(y)\n",
    "    list_x, list_y = num_to_list(x), num_to_list(y)\n",
    " \n",
    "    output_str += f'{list_to_string(list_x)} has {len_x} digits.\\n'\n",
    "    output_str += f'{list_to_string(list_y)} has {len_y} digits.\\n'\n",
    "\n",
    "    x_y = 1\n",
    "    if x >= y:\n",
    "        output_str += f'{x}>={y}\\n'\n",
    "    else:\n",
    "        x_y = 0\n",
    "        output_str += f'{x}<{y} : {x}-{y}=-({y}-{x})\\n'\n",
    "        x, y = y, x\n",
    "        len_x, len_y = len(x), len(y)\n",
    "        list_x, list_y = list_y, list_x\n",
    "\n",
    "    C=0\n",
    "    A=[]\n",
    "    total_len = max(len_x, len_y)\n",
    "    for i in range(total_len):\n",
    "        a = list_x[-1] if i < len_x else 0\n",
    "        b = list_y[-1] if i < len_y else 0\n",
    "\n",
    "        \n",
    "        if a - b - abs(C) < 0:\n",
    "            c = a - b + 10 - abs(C)\n",
    "            update = f\"{a}{operator}{b}-{abs(C)}+10={c}\"\n",
    "        else:\n",
    "            c = a - b - abs(C)\n",
    "            update = f\"{a}{operator}{b}-{abs(C)}={c}\"\n",
    "\n",
    "        # print(f\"i: {i}, a: {a}, b: {b}, C: {C}, a-b-C: {a - b - C}, c: {c}\")\n",
    "\n",
    "        output_str += f'{list_to_string(list_x)} {operator} {list_to_string(list_y)} , A={list_to_string(A)} , C={C} , {update} , A->{c} , C->{-1 * ( a - b - abs(C) < 0)}\\n'\n",
    "\n",
    "        A.insert(0, c)\n",
    "        C = -1 * ( a - b - abs(C) < 0)\n",
    "\n",
    "        list_x = list_x[:-1]\n",
    "        list_y = list_y[:-1]\n",
    "\n",
    "    output_str += f'{list_to_string(list_x)} - {list_to_string(list_y)} , A={list_to_string(A)} , END\\n</scratch>\\n'\n",
    "    \n",
    "    if x_y == 0:\n",
    "        output_str += '-'\n",
    "    for a in A:\n",
    "        output_str += f'{a} '\n",
    "\n",
    "    return output_str[:-1]+'\\n'"
   ]
  },
  {
   "cell_type": "code",
   "execution_count": 97,
   "metadata": {},
   "outputs": [
    {
     "name": "stdout",
     "output_type": "stream",
     "text": [
      "Input:\n",
      "29-510\n",
      "Target:\n",
      "<scratch>\n",
      "[2,9] has 2 digits.\n",
      "[5,1,0] has 3 digits.\n",
      "29<510 : 29-510=-(510-29)\n",
      "[5,1,0] - [2,9] , A=[] , C=0 , 0-9-0+10=1 , A->1 , C->-1\n",
      "[5,1] - [2] , A=[1] , C=-1 , 1-2-1+10=8 , A->8 , C->-1\n",
      "[5] - [] , A=[8,1] , C=-1 , 5-0-1=4 , A->4 , C->0\n",
      "[] - [] , A=[4,8,1] , END\n",
      "</scratch>\n",
      "-4 8 1\n",
      "\n",
      "306\n"
     ]
    }
   ],
   "source": [
    "x,y = 29, 510\n",
    "input_str = get_input_string(x,y)\n",
    "output_str = get_output_string(x,y)\n",
    "\n",
    "print(input_str+output_str)\n",
    "print(len(input_str+output_str))\n"
   ]
  },
  {
   "cell_type": "code",
   "execution_count": 100,
   "metadata": {},
   "outputs": [
    {
     "name": "stdout",
     "output_type": "stream",
     "text": [
      "Input:\n",
      "29-570\n",
      "Target:\n",
      "<scratch>\n",
      "[2,9] has 2 digits.\n",
      "[5,7,0] has 3 digits.\n",
      "29<570 : 29-570=-(570-29)\n",
      "[5,7,0] - [2,9] , A=[] , C=0 , 0-9-0+10=1 , A->1 , C->-1\n",
      "[5,7] - [2] , A=[1] , C=-1 , 7-2-1=4 , A->4 , C->0\n",
      "[5] - [] , A=[4,1] , C=0 , 5-0-0=5 , A->5 , C->0\n",
      "[] - [] , A=[5,4,1] , END\n",
      "</scratch>\n",
      "-5 4 1\n",
      "\n",
      "301\n"
     ]
    }
   ],
   "source": [
    "x,y = 29, 570\n",
    "input_str = get_input_string(x,y)\n",
    "output_str = get_output_string(x,y)\n",
    "\n",
    "print(input_str+output_str)\n",
    "print(len(input_str+output_str))\n"
   ]
  },
  {
   "cell_type": "code",
   "execution_count": 98,
   "metadata": {},
   "outputs": [
    {
     "name": "stdout",
     "output_type": "stream",
     "text": [
      "Input:\n",
      "128-367\n",
      "Target:\n",
      "<scratch>\n",
      "[1,2,8] has 3 digits.\n",
      "[3,6,7] has 3 digits.\n",
      "128<367 : 128-367=-(367-128)\n",
      "[3,6,7] - [1,2,8] , A=[] , C=0 , 7-8-0+10=9 , A->9 , C->-1\n",
      "[3,6] - [1,2] , A=[9] , C=-1 , 6-2-1=3 , A->3 , C->0\n",
      "[3] - [1] , A=[3,9] , C=0 , 3-1-0=2 , A->2 , C->0\n",
      "[] - [] , A=[2,3,9] , END\n",
      "</scratch>\n",
      "-2 3 9\n",
      "\n",
      "312\n"
     ]
    }
   ],
   "source": [
    "x,y = 128, 367\n",
    "input_str = get_input_string(x,y)\n",
    "output_str = get_output_string(x,y)\n",
    "\n",
    "print(input_str+output_str)\n",
    "print(len(input_str+output_str))\n"
   ]
  },
  {
   "cell_type": "code",
   "execution_count": 99,
   "metadata": {},
   "outputs": [
    {
     "name": "stdout",
     "output_type": "stream",
     "text": [
      "Input:\n",
      "367-128\n",
      "Target:\n",
      "<scratch>\n",
      "[3,6,7] has 3 digits.\n",
      "[1,2,8] has 3 digits.\n",
      "367>=128\n",
      "[3,6,7] - [1,2,8] , A=[] , C=0 , 7-8-0+10=9 , A->9 , C->-1\n",
      "[3,6] - [1,2] , A=[9] , C=-1 , 6-2-1=3 , A->3 , C->0\n",
      "[3] - [1] , A=[3,9] , C=0 , 3-1-0=2 , A->2 , C->0\n",
      "[] - [] , A=[2,3,9] , END\n",
      "</scratch>\n",
      "2 3 9\n",
      "\n"
     ]
    }
   ],
   "source": [
    "x,y = 367, 128\n",
    "input_str = get_input_string(x,y)\n",
    "output_str = get_output_string(x,y)\n",
    "\n",
    "print(input_str+output_str)\n"
   ]
  },
  {
   "cell_type": "code",
   "execution_count": null,
   "metadata": {},
   "outputs": [],
   "source": []
  },
  {
   "cell_type": "code",
   "execution_count": null,
   "metadata": {},
   "outputs": [],
   "source": []
  },
  {
   "attachments": {},
   "cell_type": "markdown",
   "metadata": {},
   "source": [
    "# Algorithmic Reasoning for Subtraction  ver2."
   ]
  },
  {
   "cell_type": "code",
   "execution_count": 3,
   "metadata": {},
   "outputs": [
    {
     "name": "stdout",
     "output_type": "stream",
     "text": [
      "[1, 2, 8]\n",
      "[1,2,8]\n"
     ]
    }
   ],
   "source": [
    "x = 128\n",
    "def list_to_string(a):\n",
    "    a = str(a)\n",
    "    return a.replace(' ', '')\n",
    "\n",
    "def num_to_list(num):\n",
    "    return [int(x) for x in str(num)]\n",
    "\n",
    "list_x = num_to_list(x)\n",
    "print(list_x)\n",
    "print(list_to_string(list_x))\n",
    "\n"
   ]
  },
  {
   "cell_type": "code",
   "execution_count": 4,
   "metadata": {},
   "outputs": [],
   "source": [
    "def get_input_string(x,y):\n",
    "    x, y = str(x), str(y)\n",
    "    input_str = f'Input:\\n{x}-{y}\\n'\n",
    "\n",
    "    return input_str\n",
    "\n",
    "def get_output_string(x,y):\n",
    "    operator = '-'\n",
    "    output_str = f'Target:\\n<scratch>\\n'\n",
    "\n",
    "    x, y = str(x), str(y)\n",
    "    len_x, len_y = len(x), len(y)\n",
    "    list_x, list_y = num_to_list(x), num_to_list(y)\n",
    " \n",
    "    output_str += f'{list_to_string(list_x)} has {len_x} digits.\\n'\n",
    "    output_str += f'{list_to_string(list_y)} has {len_y} digits.\\n'\n",
    "\n",
    "\n",
    "    C=0\n",
    "    A=[]\n",
    "    total_len = max(len_x, len_y)\n",
    "    for i in range(total_len):\n",
    "        a = list_x[-1] if i < len_x else 0\n",
    "        b = list_y[-1] if i < len_y else 0\n",
    "\n",
    "        \n",
    "        if a - b - abs(C) < 0 and (i < total_len - 1):\n",
    "            c = a - b + 10 - abs(C)\n",
    "            update = f\"{a}{operator}{b}-{abs(C)}+10={c}\"\n",
    "        else:\n",
    "            c = a - b - abs(C)\n",
    "            update = f\"{a}{operator}{b}-{abs(C)}={c}\"\n",
    "\n",
    "        # print(f\"i: {i}, a: {a}, b: {b}, C: {C}, a-b-C: {a - b - C}, c: {c}\")\n",
    "\n",
    "        output_str += f'{list_to_string(list_x)} {operator} {list_to_string(list_y)} , A={list_to_string(A)} , C={C} , {update} , A->{c} , C->{-1 * ( a - b - abs(C) < 0)}\\n'\n",
    "\n",
    "        A.insert(0, c)\n",
    "        C = -1 * ( a - b - abs(C) < 0)\n",
    "\n",
    "        list_x = list_x[:-1]\n",
    "        list_y = list_y[:-1]\n",
    "\n",
    "    output_str += f'{list_to_string(list_x)} - {list_to_string(list_y)} , A={list_to_string(A)}\\n' # , END\\n</scratch>\\n'\n",
    "    \n",
    "    a = int(A[0])\n",
    "    n = len(A) - 1\n",
    "    b = int(''.join([str(x) for x in A[1:]])) if n > 0 else 0\n",
    "    result = a * (10 ** n) + b\n",
    "    output_str += f'{a * (10 ** n)}+{b}={result} , END\\n</scratch>\\n'\n",
    "\n",
    "    if result < 0:\n",
    "        result_sign = '-'\n",
    "        \n",
    "    else:\n",
    "        result_sign = ''\n",
    "    result_str = num_to_list(abs(result))\n",
    "\n",
    "    output_str += result_sign\n",
    "    for x in result_str:\n",
    "        output_str += f'{x} '\n",
    "\n",
    "    return output_str[:-1]+'\\n'"
   ]
  },
  {
   "cell_type": "code",
   "execution_count": 8,
   "metadata": {},
   "outputs": [
    {
     "name": "stdout",
     "output_type": "stream",
     "text": [
      "Input:\n",
      "29-510\n",
      "Target:\n",
      "<scratch>\n",
      "[2,9] has 2 digits.\n",
      "[5,1,0] has 3 digits.\n",
      "[2,9] - [5,1,0] , A=[] , C=0 , 9-0-0=9 , A->9 , C->0\n",
      "[2] - [5,1] , A=[9] , C=0 , 2-1-0=1 , A->1 , C->0\n",
      "[] - [5] , A=[1,9] , C=0 , 0-5-0=-5 , A->-5 , C->-1\n",
      "[] - [] , A=[-5,1,9]\n",
      "-500+19=-481 , END\n",
      "</scratch>\n",
      "-4 8 1\n",
      "\n",
      "287\n",
      "-481\n"
     ]
    }
   ],
   "source": [
    "x,y = 29, 510\n",
    "input_str = get_input_string(x,y)\n",
    "output_str = get_output_string(x,y)\n",
    "\n",
    "print(input_str+output_str)\n",
    "print(len(input_str+output_str))\n",
    "print(x-y)\n"
   ]
  },
  {
   "cell_type": "code",
   "execution_count": 42,
   "metadata": {},
   "outputs": [
    {
     "name": "stdout",
     "output_type": "stream",
     "text": [
      "Input:\n",
      "128-367\n",
      "Target:\n",
      "<scratch>\n",
      "[1,2,8] has 3 digits.\n",
      "[3,6,7] has 3 digits.\n",
      "[1,2,8] - [3,6,7] , A=[] , C=0 , 8-7-0=1 , A->1 , C->0\n",
      "[1,2] - [3,6] , A=[1] , C=0 , 2-6-0+10=6 , A->6 , C->-1\n",
      "[1] - [3] , A=[6,1] , C=-1 , 1-3-1=-3 , A->-3 , C->-1\n",
      "[] - [] , A=[-3,6,1]\n",
      "-300+61=-239 , END\n",
      "</scratch>\n",
      "-2 3 9\n",
      "\n",
      "300\n",
      "-239\n"
     ]
    }
   ],
   "source": [
    "x,y = 128, 367\n",
    "input_str = get_input_string(x,y)\n",
    "output_str = get_output_string(x,y)\n",
    "\n",
    "print(input_str+output_str)\n",
    "print(len(input_str+output_str))\n",
    "print(x-y)\n",
    "\n"
   ]
  },
  {
   "cell_type": "code",
   "execution_count": 43,
   "metadata": {},
   "outputs": [
    {
     "name": "stdout",
     "output_type": "stream",
     "text": [
      "Input:\n",
      "367-128\n",
      "Target:\n",
      "<scratch>\n",
      "[3,6,7] has 3 digits.\n",
      "[1,2,8] has 3 digits.\n",
      "[3,6,7] - [1,2,8] , A=[] , C=0 , 7-8-0+10=9 , A->9 , C->-1\n",
      "[3,6] - [1,2] , A=[9] , C=-1 , 6-2-1=3 , A->3 , C->0\n",
      "[3] - [1] , A=[3,9] , C=0 , 3-1-0=2 , A->2 , C->0\n",
      "[] - [] , A=[2,3,9]\n",
      "200+39=239 , END\n",
      "</scratch>\n",
      "2 3 9\n",
      "\n",
      "239\n"
     ]
    }
   ],
   "source": [
    "x,y = 367, 128\n",
    "input_str = get_input_string(x,y)\n",
    "output_str = get_output_string(x,y)\n",
    "\n",
    "print(input_str+output_str)\n",
    "print(x-y)\n"
   ]
  },
  {
   "cell_type": "code",
   "execution_count": 44,
   "metadata": {},
   "outputs": [
    {
     "name": "stdout",
     "output_type": "stream",
     "text": [
      "Input:\n",
      "3-6\n",
      "Target:\n",
      "<scratch>\n",
      "[3] has 1 digits.\n",
      "[6] has 1 digits.\n",
      "[3] - [6] , A=[] , C=0 , 3-6-0=-3 , A->-3 , C->-1\n",
      "[] - [] , A=[-3]\n",
      "-3+0=-3 , END\n",
      "</scratch>\n",
      "-3\n",
      "\n",
      "-3\n"
     ]
    }
   ],
   "source": [
    "x,y = 3, 6\n",
    "input_str = get_input_string(x,y)\n",
    "output_str = get_output_string(x,y)\n",
    "\n",
    "print(input_str+output_str)\n",
    "print(x-y)\n"
   ]
  },
  {
   "cell_type": "code",
   "execution_count": 45,
   "metadata": {},
   "outputs": [
    {
     "name": "stdout",
     "output_type": "stream",
     "text": [
      "Input:\n",
      "6-3\n",
      "Target:\n",
      "<scratch>\n",
      "[6] has 1 digits.\n",
      "[3] has 1 digits.\n",
      "[6] - [3] , A=[] , C=0 , 6-3-0=3 , A->3 , C->0\n",
      "[] - [] , A=[3]\n",
      "3+0=3 , END\n",
      "</scratch>\n",
      "3\n",
      "\n",
      "3\n"
     ]
    }
   ],
   "source": [
    "x,y = 6, 3\n",
    "input_str = get_input_string(x,y)\n",
    "output_str = get_output_string(x,y)\n",
    "\n",
    "print(input_str+output_str)\n",
    "print(x-y)\n"
   ]
  },
  {
   "cell_type": "code",
   "execution_count": 47,
   "metadata": {},
   "outputs": [
    {
     "name": "stdout",
     "output_type": "stream",
     "text": [
      "Input:\n",
      "941-940\n",
      "Target:\n",
      "<scratch>\n",
      "[9,4,1] has 3 digits.\n",
      "[9,4,0] has 3 digits.\n",
      "[9,4,1] - [9,4,0] , A=[] , C=0 , 1-0-0=1 , A->1 , C->0\n",
      "[9,4] - [9,4] , A=[1] , C=0 , 4-4-0=0 , A->0 , C->0\n",
      "[9] - [9] , A=[0,1] , C=0 , 9-9-0=0 , A->0 , C->0\n",
      "[] - [] , A=[0,0,1]\n",
      "0+1=1 , END\n",
      "</scratch>\n",
      "1\n",
      "\n",
      "1\n"
     ]
    }
   ],
   "source": [
    "x,y = 941, 940\n",
    "input_str = get_input_string(x,y)\n",
    "output_str = get_output_string(x,y)\n",
    "\n",
    "print(input_str+output_str)\n",
    "print(x-y)\n"
   ]
  },
  {
   "cell_type": "code",
   "execution_count": null,
   "metadata": {},
   "outputs": [],
   "source": []
  },
  {
   "attachments": {},
   "cell_type": "markdown",
   "metadata": {},
   "source": [
    "# Simplifed AR for subtraction"
   ]
  },
  {
   "cell_type": "code",
   "execution_count": 9,
   "metadata": {},
   "outputs": [],
   "source": [
    "def add_space(string):\n",
    "    string = str(string)\n",
    "    return ' '.join(string)\n",
    "\n",
    "def list_to_string(a):\n",
    "    a = str(a)\n",
    "    return a.replace(' ', '')\n",
    "\n",
    "def num_to_list(num):\n",
    "    return [int(x) for x in str(num)]\n",
    "\n",
    "def get_input_string(x,y):\n",
    "    x, y = str(x), str(y)\n",
    "    input_str = f'Input:\\n{x}-{y}\\n'\n",
    "\n",
    "    return input_str\n",
    "\n",
    "def get_output_string(x,y,random_A=False, random_C=False):\n",
    "    x, y = str(x), str(y)\n",
    "\n",
    "    len_x, len_y = len(x), len(y)\n",
    "    list_x, list_y = num_to_list(x), num_to_list(y)\n",
    "\n",
    "    output_str = f'Target:\\n'\n",
    "\n",
    "    C=0\n",
    "    A=[]\n",
    "    for i in range(max(len_x, len_y)):\n",
    "        a = list_x[-1] if i < len_x else 0\n",
    "        b = list_y[-1] if i < len_y else 0\n",
    "        c = a - b - abs(C) \n",
    "        C = -1 * ( a - b - abs(C) < 0)\n",
    "\n",
    "        if c < 0 and i < max(len_x, len_y) - 1:\n",
    "            trueA = c + 10\n",
    "        else:\n",
    "            trueA = c\n",
    "            \n",
    "        if random_A:\n",
    "            randomA = random.randint(0, 9)\n",
    "        else:\n",
    "            randomA = trueA\n",
    "        if random_C:\n",
    "            randomC = -1 * random.randint(0, 1)\n",
    "        else:\n",
    "            randomC = C\n",
    "        \n",
    "        output_str += f'A->{randomA} , C->{randomC}\\n'\n",
    "\n",
    "        A.insert(0, trueA)\n",
    "\n",
    "        list_x = list_x[:-1]\n",
    "        list_y = list_y[:-1]\n",
    "\n",
    "    # output_str += f'{list_to_string(list_x)} + {list_to_string(list_y)} , A={list_to_string(A)} C={C} , END\\n</scratch>\\n'\n",
    "    \n",
    "    a = int(A[0])\n",
    "    n = len(A) - 1\n",
    "    b = int(''.join([str(x) for x in A[1:]])) if n > 0 else 0\n",
    "    result = a * (10 ** n) + b\n",
    "    output_str += f'{a * (10 ** n)}+{b}={result}.\\n'\n",
    "\n",
    "    if result < 0:\n",
    "        result_sign = '-'\n",
    "            \n",
    "    else:\n",
    "        result_sign = ''\n",
    "    result_str = [int(x) for x in str(abs(result))]\n",
    "\n",
    "    output_str += result_sign\n",
    "    for x in result_str:\n",
    "        output_str += f'{x}'\n",
    "\n",
    "    return output_str+'\\n'"
   ]
  },
  {
   "cell_type": "code",
   "execution_count": 13,
   "metadata": {},
   "outputs": [
    {
     "name": "stdout",
     "output_type": "stream",
     "text": [
      "Input:\n",
      "128-367\n",
      "Target:\n",
      "A->1 , C->0\n",
      "A->6 , C->-1\n",
      "A->-3 , C->-1\n",
      "-300+61=-239.\n",
      "-239\n",
      "\n",
      "81\n",
      "-239\n"
     ]
    }
   ],
   "source": [
    "x,y = 128, 367\n",
    "input_str = get_input_string(x,y)\n",
    "output_str = get_output_string(x,y)\n",
    "\n",
    "print(input_str+output_str)\n",
    "print(len(input_str+output_str))\n",
    "print(x-y)\n"
   ]
  },
  {
   "cell_type": "code",
   "execution_count": 12,
   "metadata": {},
   "outputs": [
    {
     "name": "stdout",
     "output_type": "stream",
     "text": [
      "Input:\n",
      "788-989\n",
      "Target:\n",
      "A->9 , C->-1\n",
      "A->9 , C->-1\n",
      "A->-3 , C->-1\n",
      "-300+99=-201.\n",
      "-201\n",
      "\n",
      "82\n",
      "-201\n"
     ]
    }
   ],
   "source": [
    "x,y = 788, 989\n",
    "input_str = get_input_string(x,y)\n",
    "output_str = get_output_string(x,y)\n",
    "\n",
    "print(input_str+output_str)\n",
    "print(len(input_str+output_str))\n",
    "print(x-y)\n"
   ]
  },
  {
   "cell_type": "code",
   "execution_count": null,
   "metadata": {},
   "outputs": [],
   "source": []
  },
  {
   "attachments": {},
   "cell_type": "markdown",
   "metadata": {},
   "source": [
    "# Create much smaller dataset for figuring out whether algorithmic reasoning prompting can be training with much smaller data"
   ]
  },
  {
   "cell_type": "code",
   "execution_count": 4,
   "metadata": {},
   "outputs": [],
   "source": [
    "# create dataset with smaller number of examples, sampled from the above dataset\n",
    "\n",
    "def create_subset_dataset(input_file_path='train_3digit_10000.txt', output_file_path=None, num_2digit=100, num_3digit=100):\n",
    "    with open(input_file_path, 'r') as f:\n",
    "        lines = f.readlines()\n",
    "    \n",
    "    num_samples = 100 + num_2digit + num_3digit\n",
    "\n",
    "    selected_lines = lines[:100] # select the first 100 lines (1-digit examples)\n",
    "    # sample int(900*total_num_examples/10000) 2-digit examples (lines[100:1000])\n",
    "    selected_lines += random.sample(lines[100:1000], num_2digit)\n",
    "    selected_lines += random.sample(lines[1000:], num_3digit)\n",
    "\n",
    "    num_carry_list = [0 for i in range(4)]\n",
    "    for line in selected_lines:\n",
    "        a, b = line.split('+')\n",
    "        b = b.split('=')[0]\n",
    "        num_carry = numCarryOps(a, b)\n",
    "        num_carry_list[num_carry] += 1\n",
    "    print(num_carry_list)\n",
    "\n",
    "    output_file_path = f'train_3digit_small_{num_samples}.txt' if output_file_path is None else output_file_path\n",
    "    if os.path.exists(output_file_path):\n",
    "        print(f'File {output_file_path} already exists')\n",
    "\n",
    "    \n",
    "    with open(output_file_path, 'w') as f:\n",
    "        f.writelines(selected_lines)\n",
    "        print(f'created {num_samples} number of examples and saved to {output_file_path}')\n",
    "        \n",
    "    "
   ]
  },
  {
   "cell_type": "code",
   "execution_count": null,
   "metadata": {},
   "outputs": [],
   "source": [
    "# create dataset with smaller number of examples, sampled from the above dataset\n",
    "\n",
    "def create_subset_dataset(input_file_path='train_3digit_10000.txt', output_file_path=None, num_2digit=100, num_3digit=100):\n",
    "    with open(input_file_path, 'r') as f:\n",
    "        lines = f.readlines()\n",
    "    \n",
    "    num_samples = 100 + num_2digit + num_3digit\n",
    "\n",
    "    selected_lines = lines[:100] # select the first 100 lines (1-digit examples)\n",
    "    # sample int(900*total_num_examples/10000) 2-digit examples (lines[100:1000])\n",
    "    selected_lines += random.sample(lines[100:1000], num_2digit)\n",
    "    selected_lines += random.sample(lines[1000:], num_3digit)\n",
    "\n",
    "    num_carry_list = [0 for i in range(4)]\n",
    "    for line in selected_lines:\n",
    "        a, b = line.split('+')\n",
    "        b = b.split('=')[0]\n",
    "        num_carry = numCarryOps(a, b)\n",
    "        num_carry_list[num_carry] += 1\n",
    "    print(num_carry_list)\n",
    "\n",
    "    output_file_path = f'train_3digit_all_{num_samples}.txt' if output_file_path is None else output_file_path\n",
    "    if os.path.exists(output_file_path):\n",
    "        print(f'File {output_file_path} already exists')\n",
    "\n",
    "    \n",
    "    with open(output_file_path, 'w') as f:\n",
    "        f.writelines(selected_lines)\n",
    "        print(f'created {num_samples} number of examples and saved to {output_file_path}')\n",
    "        \n",
    "    "
   ]
  },
  {
   "cell_type": "code",
   "execution_count": 4,
   "metadata": {},
   "outputs": [
    {
     "name": "stdout",
     "output_type": "stream",
     "text": [
      "[104, 113, 57, 26]\n",
      "created 300 number of examples and saved to train_3digit_small_300.txt\n"
     ]
    }
   ],
   "source": [
    "create_subset_dataset(num_2digit=100, num_3digit=100)"
   ]
  },
  {
   "cell_type": "code",
   "execution_count": 5,
   "metadata": {},
   "outputs": [
    {
     "name": "stdout",
     "output_type": "stream",
     "text": [
      "[85, 78, 24, 13]\n",
      "created 200 number of examples and saved to train_3digit_small_200.txt\n"
     ]
    }
   ],
   "source": [
    "create_subset_dataset(num_2digit=50, num_3digit=50)"
   ]
  },
  {
   "cell_type": "code",
   "execution_count": 6,
   "metadata": {},
   "outputs": [
    {
     "name": "stdout",
     "output_type": "stream",
     "text": [
      "[62, 52, 6, 0]\n",
      "created 120 number of examples and saved to train_3digit_small_120.txt\n"
     ]
    }
   ],
   "source": [
    "create_subset_dataset(num_2digit=10, num_3digit=10)"
   ]
  },
  {
   "cell_type": "code",
   "execution_count": 7,
   "metadata": {},
   "outputs": [
    {
     "name": "stdout",
     "output_type": "stream",
     "text": [
      "[168, 153, 114, 65]\n",
      "created 500 number of examples and saved to train_3digit_small_500.txt\n"
     ]
    }
   ],
   "source": [
    "create_subset_dataset(num_2digit=200, num_3digit=200)"
   ]
  },
  {
   "cell_type": "code",
   "execution_count": 5,
   "metadata": {},
   "outputs": [
    {
     "name": "stdout",
     "output_type": "stream",
     "text": [
      "[106, 125, 55, 14]\n",
      "created 300 number of examples and saved to train_3digit_small_100_150_50.txt\n"
     ]
    }
   ],
   "source": [
    "create_subset_dataset(num_2digit=150, num_3digit=50, output_file_path='train_3digit_small_100_150_50.txt')"
   ]
  },
  {
   "cell_type": "code",
   "execution_count": 6,
   "metadata": {},
   "outputs": [
    {
     "name": "stdout",
     "output_type": "stream",
     "text": [
      "[102, 97, 50, 51]\n",
      "created 300 number of examples and saved to train_3digit_small_100_50_150.txt\n"
     ]
    }
   ],
   "source": [
    "create_subset_dataset(num_2digit=50, num_3digit=150, output_file_path='train_3digit_small_100_50_150.txt')"
   ]
  },
  {
   "cell_type": "code",
   "execution_count": null,
   "metadata": {},
   "outputs": [],
   "source": []
  }
 ],
 "metadata": {
  "kernelspec": {
   "display_name": "nanogpt",
   "language": "python",
   "name": "python3"
  },
  "language_info": {
   "codemirror_mode": {
    "name": "ipython",
    "version": 3
   },
   "file_extension": ".py",
   "mimetype": "text/x-python",
   "name": "python",
   "nbconvert_exporter": "python",
   "pygments_lexer": "ipython3",
   "version": "3.11.3"
  },
  "orig_nbformat": 4
 },
 "nbformat": 4,
 "nbformat_minor": 2
}
